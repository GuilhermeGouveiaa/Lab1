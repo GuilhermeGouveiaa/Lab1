{
  "nbformat": 4,
  "nbformat_minor": 0,
  "metadata": {
    "colab": {
      "provenance": []
    },
    "kernelspec": {
      "name": "python3",
      "display_name": "Python 3"
    },
    "language_info": {
      "name": "python"
    }
  },
  "cells": [
    {
      "cell_type": "code",
      "execution_count": 4,
      "metadata": {
        "colab": {
          "base_uri": "https://localhost:8080/"
        },
        "id": "2c4tSAfu756j",
        "outputId": "f145eb38-50ef-4144-e6a2-5348f19bbd7d"
      },
      "outputs": [
        {
          "output_type": "stream",
          "name": "stdout",
          "text": [
            "8\n"
          ]
        }
      ],
      "source": [
        "import random\n",
        "import numpy as np\n",
        "import cv2\n",
        "\n",
        "# Reading apple images\n",
        "A1 = cv2.imread('apple_04.jpg')\n",
        "A2 = cv2.imread('apple_05.jpg')\n",
        "A3 = cv2.imread('apple_06.jpg')\n",
        "A4 = cv2.imread('apple_07.jpg')\n",
        "A5 = cv2.imread('apple_11.jpg')\n",
        "A6 = cv2.imread('apple_12.jpg')\n",
        "A7 = cv2.imread('apple_13.jpg')\n",
        "A8 = cv2.imread('apple_17.jpg')\n",
        "A9 = cv2.imread('apple_19.jpg')\n",
        "\n",
        "# Reading pears images\n",
        "P1 = cv2.imread('pear_01.jpg')\n",
        "P2 = cv2.imread('pear_02.jpg')\n",
        "P3 = cv2.imread('pear_03.jpg')\n",
        "P4 = cv2.imread('pear_09.jpg')\n",
        "\n",
        "# Selecting features (color, roundness, 3 apples and 2 pears)\n",
        "# A1, A2, A3, P1, P2\n",
        "# Building matrix 2x5\n",
        "x1 = [0.21835, 0.14115, 0.37022, 0.31565, 0.36484, 0.46111, 0.55223, 0.16975, 0.49187, 0.14913, 0.18474, 0.08838, 0.098166]\n",
        "x2 = [0.81884, 0.83535, 0.8111, 0.83101, 0.8518, 0.82518, 0.83449, 0.84049, 0.80889, 0.77104, 0.6279, 0.62068, 0.79092]\n",
        "\n",
        "# Estimated features are stored in matrix P\n",
        "P = [x1, x2]\n",
        "\n",
        "# Desired output vector\n",
        "T = [1, 1, 1, 1, 1, 1, 1, 1, 1, -1, -1, -1, -1]\n",
        "\n",
        "# Train single perceptron with two inputs and one output\n",
        "\n",
        "# Generate random initial values of w1, w2 and b\n",
        "w1 = random.random()\n",
        "w2 = random.random()\n",
        "b = random.random()\n",
        "\n",
        "total_error = 0\n",
        "\n",
        "for i in range(len(P[0])):\n",
        "\n",
        "        # Calculate weighted sum\n",
        "        v = P[0][i] * w1 + P[1][i] * w2 + b\n",
        "        # Calculate current output of the perceptron\n",
        "        y = 1 if v > 0 else -1\n",
        "        # Calculate the error\n",
        "        e = T[i] - y\n",
        "\n",
        "        # total error\n",
        "        total_error += abs(e)\n",
        "\n",
        "print(total_error)\n"
      ]
    },
    {
      "cell_type": "code",
      "source": [
        "import random\n",
        "import numpy as np\n",
        "import cv2\n",
        "\n",
        "\n",
        "w1 = random.random()\n",
        "w2 = random.random()\n",
        "b = random.random()\n",
        "\n",
        "eta = 0.15\n",
        "\n",
        "\n",
        "while total_error != 0:\n",
        "\n",
        "    for i in range(len(P[0])):\n",
        "\n",
        "        # Calculate weighted sum\n",
        "        v = P[0][i] * w1 + P[1][i] * w2 + b\n",
        "        # Calculate current output of the perceptron\n",
        "        y = 1 if v > 0 else -1\n",
        "        # Calculate the error\n",
        "        e = T[i] - y\n",
        "        # Update the weights and bias\n",
        "        w1 = w1 + eta * e * P[0][i]\n",
        "        w2 = w2 + eta * e * P[1][i]\n",
        "        b = b + eta * e\n",
        "\n",
        "    total_error = 0\n",
        "    for i in range(len(P[0])):\n",
        "\n",
        "        # Calculate weighted sum\n",
        "        v = P[0][i] * w1 + P[1][i] * w2 + b\n",
        "        # Calculate current output of the perceptron\n",
        "        y = 1 if v > 0 else -1\n",
        "        # Calculate the error\n",
        "        e = T[i] - y\n",
        "\n",
        "        # total error\n",
        "        total_error += abs(e)\n",
        "\n",
        "\n",
        "    print(total_error)\n",
        "\n",
        "\n",
        "\n"
      ],
      "metadata": {
        "id": "NKkIGsJC8dkl",
        "colab": {
          "base_uri": "https://localhost:8080/"
        },
        "outputId": "51f921f6-04b4-41d5-e20d-0d9a0f6c4128"
      },
      "execution_count": 5,
      "outputs": [
        {
          "output_type": "stream",
          "name": "stdout",
          "text": [
            "4\n",
            "2\n",
            "18\n",
            "18\n",
            "18\n",
            "18\n",
            "18\n",
            "18\n",
            "18\n",
            "18\n",
            "18\n",
            "18\n",
            "18\n",
            "18\n",
            "16\n",
            "16\n",
            "14\n",
            "12\n",
            "12\n",
            "12\n",
            "8\n",
            "8\n",
            "8\n",
            "6\n",
            "6\n",
            "6\n",
            "6\n",
            "6\n",
            "4\n",
            "4\n",
            "4\n",
            "2\n",
            "2\n",
            "0\n"
          ]
        }
      ]
    },
    {
      "cell_type": "code",
      "source": [
        "\n",
        "\n"
      ],
      "metadata": {
        "id": "wJFFuaaXKvSD"
      },
      "execution_count": null,
      "outputs": []
    }
  ]
}